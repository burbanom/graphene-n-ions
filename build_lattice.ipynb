{
 "cells": [
  {
   "cell_type": "code",
   "execution_count": 1,
   "metadata": {
    "collapsed": true
   },
   "outputs": [],
   "source": [
    "import numpy as np\n",
    "from ase import Atoms\n",
    "from copy import deepcopy\n",
    "from itertools import combinations\n",
    "import pandas as pd\n",
    "from ase.io import read, write\n",
    "from configurations import *\n",
    "import sys\n",
    "#sys.path.insert(0,'../pycp2k')\n",
    "#sys.path.insert(0,'../python-utils')\n",
    "from ase.build import molecule, graphene_nanoribbon\n",
    "from ase.visualize import view"
   ]
  },
  {
   "cell_type": "code",
   "execution_count": 2,
   "metadata": {},
   "outputs": [
    {
     "data": {
      "text/plain": [
       "array([[ 0.      ,  0.      , -0.611046],\n",
       "       [ 0.      ,  0.      ,  0.523753]])"
      ]
     },
     "execution_count": 2,
     "metadata": {},
     "output_type": "execute_result"
    }
   ],
   "source": [
    "cn = molecule('CN')\n",
    "cn.positions"
   ]
  },
  {
   "cell_type": "code",
   "execution_count": 3,
   "metadata": {
    "collapsed": true
   },
   "outputs": [],
   "source": [
    "cn.positions\n",
    "cn.set_cell([10,10,10])\n",
    "cn.pbc = True\n",
    "cn.center()\n",
    "cn.rotate(v='x',a=np.pi/2., center='COM')"
   ]
  },
  {
   "cell_type": "code",
   "execution_count": 4,
   "metadata": {
    "collapsed": true
   },
   "outputs": [],
   "source": [
    "view(cn)"
   ]
  },
  {
   "cell_type": "code",
   "execution_count": 5,
   "metadata": {
    "collapsed": true
   },
   "outputs": [],
   "source": [
    "lattice = build_lattice(4, motif=cn,lattice_constant=3)"
   ]
  },
  {
   "cell_type": "code",
   "execution_count": 6,
   "metadata": {},
   "outputs": [
    {
     "data": {
      "text/plain": [
       "[Atoms(symbols='CN', pbc=True, cell=[10.0, 10.0, 10.0], initial_magmoms=...),\n",
       " Atoms(symbols='CN', pbc=True, cell=[10.0, 10.0, 10.0], initial_magmoms=...),\n",
       " Atoms(symbols='CN', pbc=True, cell=[10.0, 10.0, 10.0], initial_magmoms=...),\n",
       " Atoms(symbols='CN', pbc=True, cell=[10.0, 10.0, 10.0], initial_magmoms=...)]"
      ]
     },
     "execution_count": 6,
     "metadata": {},
     "output_type": "execute_result"
    }
   ],
   "source": [
    "lattice"
   ]
  },
  {
   "cell_type": "code",
   "execution_count": 7,
   "metadata": {
    "collapsed": true
   },
   "outputs": [],
   "source": [
    "conf = Atoms()"
   ]
  },
  {
   "cell_type": "code",
   "execution_count": 8,
   "metadata": {
    "collapsed": true
   },
   "outputs": [],
   "source": [
    "for point in lattice:\n",
    "    conf.extend(point)"
   ]
  },
  {
   "cell_type": "code",
   "execution_count": 9,
   "metadata": {
    "collapsed": true
   },
   "outputs": [],
   "source": [
    "view(conf)"
   ]
  },
  {
   "cell_type": "code",
   "execution_count": 10,
   "metadata": {
    "collapsed": true
   },
   "outputs": [],
   "source": [
    "confs = create_configurations(lattice,axis = 'z', angle = 180.0)"
   ]
  },
  {
   "cell_type": "code",
   "execution_count": 11,
   "metadata": {},
   "outputs": [
    {
     "data": {
      "text/plain": [
       "{'AAAA': Atoms(symbols='CNCNCNCN', pbc=False, magmoms=...),\n",
       " 'AAAC': Atoms(symbols='CNCNCNCN', pbc=False, magmoms=...),\n",
       " 'AACA': Atoms(symbols='CNCNCNCN', pbc=False, magmoms=...),\n",
       " 'AACC': Atoms(symbols='CNCNCNCN', pbc=False, magmoms=...),\n",
       " 'ACAA': Atoms(symbols='CNCNCNCN', pbc=False, magmoms=...),\n",
       " 'ACAC': Atoms(symbols='CNCNCNCN', pbc=False, magmoms=...),\n",
       " 'ACCA': Atoms(symbols='CNCNCNCN', pbc=False, magmoms=...),\n",
       " 'ACCC': Atoms(symbols='CNCNCNCN', pbc=False, magmoms=...),\n",
       " 'CAAA': Atoms(symbols='CNCNCNCN', pbc=False, magmoms=...),\n",
       " 'CAAC': Atoms(symbols='CNCNCNCN', pbc=False, magmoms=...),\n",
       " 'CACA': Atoms(symbols='CNCNCNCN', pbc=False, magmoms=...),\n",
       " 'CACC': Atoms(symbols='CNCNCNCN', pbc=False, magmoms=...),\n",
       " 'CCAA': Atoms(symbols='CNCNCNCN', pbc=False, magmoms=...),\n",
       " 'CCAC': Atoms(symbols='CNCNCNCN', pbc=False, magmoms=...),\n",
       " 'CCCA': Atoms(symbols='CNCNCNCN', pbc=False, magmoms=...),\n",
       " 'CCCC': Atoms(symbols='CNCNCNCN', pbc=False, magmoms=...)}"
      ]
     },
     "execution_count": 11,
     "metadata": {},
     "output_type": "execute_result"
    }
   ],
   "source": [
    "confs"
   ]
  },
  {
   "cell_type": "code",
   "execution_count": 12,
   "metadata": {
    "collapsed": true
   },
   "outputs": [],
   "source": [
    "view(confs.values())"
   ]
  },
  {
   "cell_type": "code",
   "execution_count": 18,
   "metadata": {
    "collapsed": true
   },
   "outputs": [],
   "source": [
    "bmim_pf6_opt = read('./opt_coords_bigbox.xyz')\n",
    "bmim_pf6_opt.cell = [44.20800018, 42.54000092, 50.]\n",
    "bmim_pf6_opt.center()"
   ]
  },
  {
   "cell_type": "code",
   "execution_count": 19,
   "metadata": {
    "collapsed": true
   },
   "outputs": [],
   "source": [
    "view(bmim_pf6_opt)"
   ]
  },
  {
   "cell_type": "code",
   "execution_count": 20,
   "metadata": {
    "collapsed": true
   },
   "outputs": [],
   "source": [
    "pf6 = bmim_pf6_opt[0:7]; bmim = bmim_pf6_opt[7:32]; electrode = bmim_pf6_opt[32:]"
   ]
  },
  {
   "cell_type": "code",
   "execution_count": 21,
   "metadata": {},
   "outputs": [
    {
     "data": {
      "text/plain": [
       "4.4099961471344038"
      ]
     },
     "execution_count": 21,
     "metadata": {},
     "output_type": "execute_result"
    }
   ],
   "source": [
    "pair = pf6+bmim\n",
    "eq_dist_ion_pair_electrode = abs(electrode.get_center_of_mass()-pair.get_center_of_mass())[2]\n",
    "eq_dist_ion_pair_electrode"
   ]
  },
  {
   "cell_type": "code",
   "execution_count": 22,
   "metadata": {},
   "outputs": [
    {
     "data": {
      "text/plain": [
       "5.0451744679708543"
      ]
     },
     "execution_count": 22,
     "metadata": {},
     "output_type": "execute_result"
    }
   ],
   "source": [
    "eq_dist_ion_pair = np.linalg.norm(bmim.get_center_of_mass() - pf6.get_center_of_mass())\n",
    "eq_dist_ion_pair"
   ]
  },
  {
   "cell_type": "code",
   "execution_count": 15,
   "metadata": {
    "collapsed": true
   },
   "outputs": [],
   "source": [
    "view(pair)"
   ]
  },
  {
   "cell_type": "code",
   "execution_count": 23,
   "metadata": {
    "collapsed": true
   },
   "outputs": [],
   "source": [
    "pair.rotate('x',a=np.pi/2,center='COM')"
   ]
  },
  {
   "cell_type": "code",
   "execution_count": 17,
   "metadata": {
    "collapsed": true
   },
   "outputs": [],
   "source": [
    "view(pair)"
   ]
  },
  {
   "cell_type": "code",
   "execution_count": 19,
   "metadata": {
    "collapsed": true
   },
   "outputs": [],
   "source": [
    "# pair.rotate('x',a=np.pi/9.,center='COM')"
   ]
  },
  {
   "cell_type": "code",
   "execution_count": 20,
   "metadata": {
    "collapsed": true
   },
   "outputs": [],
   "source": [
    "# view(pair)"
   ]
  },
  {
   "cell_type": "code",
   "execution_count": 24,
   "metadata": {
    "collapsed": true
   },
   "outputs": [],
   "source": [
    "electrode.center()\n",
    "pair.center()\n",
    "pair.translate([0.0,0.0,-eq_dist_ion_pair_electrode])"
   ]
  },
  {
   "cell_type": "code",
   "execution_count": 26,
   "metadata": {
    "collapsed": true
   },
   "outputs": [],
   "source": [
    "view(pair)"
   ]
  },
  {
   "cell_type": "code",
   "execution_count": 47,
   "metadata": {
    "collapsed": true
   },
   "outputs": [],
   "source": [
    "vector = 'x'\n",
    "rotation_angle = 180.0\n",
    "separation = 15.0\n",
    "pairs = 2\n",
    "lshift = -8.0\n",
    "rshift = 8.0\n",
    "add_electrode = True\n",
    "tailored_box = True\n",
    "z_len = 50."
   ]
  },
  {
   "cell_type": "code",
   "execution_count": 48,
   "metadata": {
    "collapsed": true
   },
   "outputs": [],
   "source": [
    "generated_electrode = False\n",
    "cell = bmim_pf6_opt.cell\n",
    "lattice = build_lattice(pairs, motif=pair,lattice_constant=separation)\n",
    "l_confs = create_configurations(lattice,vector,rotation_angle)\n",
    "######\n",
    "for key in l_confs.keys():\n",
    "    if tailored_box:\n",
    "        while not generated_electrode:\n",
    "            electrode = generate_electrode(l_confs[key], lattice_constant=separation, z_len=z_len)\n",
    "            cell = electrode.cell\n",
    "            generated_electrode = True\n",
    "    l_confs[key].set_cell(cell)\n",
    "    l_confs[key].center(axis=(0,1))\n",
    "    if lshift != 0.0:\n",
    "        l_confs[key].center(axis=2)\n",
    "        l_confs[key].translate([0.0,0.0,lshift])\n",
    "        if add_electrode and too_close(l_confs[key]+electrode,1.0):\n",
    "            (l_confs[key]+electrode).write('lhs_'+key+'_positions.vasp')\n",
    "            print('LHS ions are too close to the electrode')\n",
    "            sys.exit()\n",
    "\n",
    "lattice = build_lattice(pairs, motif=pair,lattice_constant=separation)\n",
    "r_confs = create_configurations(lattice,vector,rotation_angle)\n",
    "for key in r_confs.keys():\n",
    "    r_confs[key].set_cell(cell)\n",
    "    r_confs[key].rotate('y',a=np.pi,center='COM')\n",
    "    r_confs[key].center(axis=(0,1,2))\n",
    "    r_confs[key].translate([0.0,0.0,eq_dist_ion_pair_electrode])\n",
    "    if rshift != 0.0:\n",
    "        r_confs[key].center(axis=2)\n",
    "        r_confs[key].translate([0.0,0.0,rshift])\n",
    "        if add_electrode and too_close(r_confs[key]+electrode,1.0):\n",
    "            (r_confs[key]+electrode).write('rhs_'+key+'_positions.vasp')\n",
    "            print('RHS ions are too close to the electrode')\n",
    "            sys.exit()"
   ]
  },
  {
   "cell_type": "code",
   "execution_count": 49,
   "metadata": {
    "collapsed": true
   },
   "outputs": [],
   "source": [
    "full_confs = []\n",
    "for  l_key in l_confs.keys():\n",
    "    for  r_key in r_confs.keys():\n",
    "        box = l_confs[l_key] + r_confs[r_key]\n",
    "        if add_electrode:\n",
    "            box.extend(electrode)\n",
    "        box.write('L-'+l_key+'-R-'+r_key+'-positions.cif')\n",
    "        full_confs.append(box)"
   ]
  },
  {
   "cell_type": "code",
   "execution_count": 50,
   "metadata": {
    "collapsed": true
   },
   "outputs": [],
   "source": [
    "view(full_confs)"
   ]
  },
  {
   "cell_type": "code",
   "execution_count": 669,
   "metadata": {
    "collapsed": true
   },
   "outputs": [],
   "source": [
    "from ase.build import *\n",
    "from copy import deepcopy"
   ]
  },
  {
   "cell_type": "code",
   "execution_count": 670,
   "metadata": {
    "collapsed": true
   },
   "outputs": [],
   "source": [
    "rocksalt = bulk('NaCl', crystalstructure='rocksalt', a=5.64, orthorhombic=True)"
   ]
  },
  {
   "cell_type": "code",
   "execution_count": 671,
   "metadata": {},
   "outputs": [],
   "source": [
    "supercell1 = make_supercell(rocksalt,[[2.0,0.0,0.0],[0.0,2.0,0.0],[0.0,0.0,1.0]])"
   ]
  },
  {
   "cell_type": "code",
   "execution_count": 672,
   "metadata": {
    "collapsed": true
   },
   "outputs": [],
   "source": [
    "supercell2 = deepcopy(supercell1)"
   ]
  },
  {
   "cell_type": "code",
   "execution_count": 673,
   "metadata": {
    "collapsed": true
   },
   "outputs": [],
   "source": [
    "supercell2.rotate(a=180.0,v='y',center='COP')"
   ]
  },
  {
   "cell_type": "code",
   "execution_count": 674,
   "metadata": {},
   "outputs": [
    {
     "data": {
      "text/plain": [
       "array([[ 7.97616449,  0.        ,  0.        ],\n",
       "       [ 0.        ,  7.97616449,  0.        ],\n",
       "       [ 0.        ,  0.        ,  5.64      ]])"
      ]
     },
     "execution_count": 674,
     "metadata": {},
     "output_type": "execute_result"
    }
   ],
   "source": [
    "supercell1.get_cell()"
   ]
  },
  {
   "cell_type": "code",
   "execution_count": 675,
   "metadata": {},
   "outputs": [
    {
     "data": {
      "text/plain": [
       "array([[ 7.97616449,  0.        ,  0.        ],\n",
       "       [ 0.        ,  7.97616449,  0.        ],\n",
       "       [ 0.        ,  0.        ,  5.64      ]])"
      ]
     },
     "execution_count": 675,
     "metadata": {},
     "output_type": "execute_result"
    }
   ],
   "source": [
    "supercell2.get_cell()"
   ]
  },
  {
   "cell_type": "code",
   "execution_count": 676,
   "metadata": {
    "collapsed": true
   },
   "outputs": [],
   "source": [
    "from configurations import *"
   ]
  },
  {
   "cell_type": "code",
   "execution_count": 677,
   "metadata": {
    "collapsed": true
   },
   "outputs": [],
   "source": [
    "sheet = graphene_nanoribbon(1,1,sheet=True)"
   ]
  },
  {
   "cell_type": "code",
   "execution_count": 678,
   "metadata": {},
   "outputs": [
    {
     "data": {
      "text/plain": [
       "array([[ 2.13      ,  0.        ,  0.        ],\n",
       "       [ 0.        ,  0.        ,  0.        ],\n",
       "       [ 0.        ,  0.        ,  2.45951215]])"
      ]
     },
     "execution_count": 678,
     "metadata": {},
     "output_type": "execute_result"
    }
   ],
   "source": [
    "sheet.get_cell()"
   ]
  },
  {
   "cell_type": "code",
   "execution_count": 679,
   "metadata": {},
   "outputs": [
    {
     "data": {
      "text/plain": [
       "2.4595121467478056"
      ]
     },
     "execution_count": 679,
     "metadata": {},
     "output_type": "execute_result"
    }
   ],
   "source": [
    "sheet.get_cell()[2][2]"
   ]
  },
  {
   "cell_type": "code",
   "execution_count": 680,
   "metadata": {},
   "outputs": [
    {
     "data": {
      "text/plain": [
       "4.0"
      ]
     },
     "execution_count": 680,
     "metadata": {},
     "output_type": "execute_result"
    }
   ],
   "source": [
    "np.ceil(supercell1.get_cell()[0][0] / sheet.get_cell()[2][2])"
   ]
  },
  {
   "cell_type": "code",
   "execution_count": 681,
   "metadata": {
    "collapsed": true
   },
   "outputs": [],
   "source": [
    "sheet = graphene_nanoribbon(4,4,sheet=True)"
   ]
  },
  {
   "cell_type": "code",
   "execution_count": 682,
   "metadata": {},
   "outputs": [
    {
     "data": {
      "text/plain": [
       "array([[ 8.52      ,  0.        ,  0.        ],\n",
       "       [ 0.        ,  0.        ,  0.        ],\n",
       "       [ 0.        ,  0.        ,  9.83804859]])"
      ]
     },
     "execution_count": 682,
     "metadata": {},
     "output_type": "execute_result"
    }
   ],
   "source": [
    "sheet.get_cell()"
   ]
  },
  {
   "cell_type": "code",
   "execution_count": 683,
   "metadata": {
    "collapsed": true
   },
   "outputs": [],
   "source": [
    "electrode = generate_electrode(supercell1, 0.0, x_in=supercell1.get_cell()[0][0], y_in=supercell1.get_cell()[0][0], z_len=20.0)"
   ]
  },
  {
   "cell_type": "code",
   "execution_count": 684,
   "metadata": {},
   "outputs": [],
   "source": [
    "electrode_cell = electrode.get_cell()"
   ]
  },
  {
   "cell_type": "code",
   "execution_count": 685,
   "metadata": {},
   "outputs": [],
   "source": [
    "supercell1.set_cell([electrode_cell[0][0],electrode_cell[1][1],supercell1.get_cell()[2][2]],scale_atoms=True)\n",
    "supercell2.set_cell([electrode_cell[0][0],electrode_cell[1][1],supercell1.get_cell()[2][2]],scale_atoms=True)"
   ]
  },
  {
   "cell_type": "code",
   "execution_count": 686,
   "metadata": {
    "collapsed": true
   },
   "outputs": [],
   "source": [
    "supercell1.set_cell(electrode.get_cell())\n",
    "supercell2.set_cell(electrode.get_cell())"
   ]
  },
  {
   "cell_type": "code",
   "execution_count": 687,
   "metadata": {
    "collapsed": true
   },
   "outputs": [],
   "source": [
    "supercell1.center()\n",
    "supercell2.center()"
   ]
  },
  {
   "cell_type": "code",
   "execution_count": 688,
   "metadata": {
    "collapsed": true
   },
   "outputs": [],
   "source": [
    "supercell1.translate([0.0,0.0,-4.8])\n",
    "supercell2.translate([0.0,0.0,4.8])\n",
    "# supercell2.translate([0.25*electrode.get_cell()[0][0],0.0,0.0])\n",
    "supercell2.translate([0.5*electrode.get_cell()[0][0],0.25*electrode.get_cell()[1][1],0.0])"
   ]
  },
  {
   "cell_type": "code",
   "execution_count": 689,
   "metadata": {
    "collapsed": true
   },
   "outputs": [],
   "source": [
    "system = electrode+supercell1+supercell2"
   ]
  },
  {
   "cell_type": "code",
   "execution_count": 690,
   "metadata": {
    "collapsed": true
   },
   "outputs": [],
   "source": [
    "system.set_cell(electrode.get_cell())"
   ]
  },
  {
   "cell_type": "code",
   "execution_count": 691,
   "metadata": {
    "collapsed": true
   },
   "outputs": [],
   "source": [
    "# view(system)"
   ]
  },
  {
   "cell_type": "code",
   "execution_count": 692,
   "metadata": {
    "collapsed": true
   },
   "outputs": [],
   "source": [
    "system.write('system.cif')\n",
    "system.write('system.xyz')"
   ]
  },
  {
   "cell_type": "code",
   "execution_count": 693,
   "metadata": {
    "collapsed": true
   },
   "outputs": [],
   "source": [
    "!VESTA system.cif system.xyz"
   ]
  },
  {
   "cell_type": "code",
   "execution_count": null,
   "metadata": {
    "collapsed": true
   },
   "outputs": [],
   "source": []
  }
 ],
 "metadata": {
  "kernelspec": {
   "display_name": "Python 3",
   "language": "python",
   "name": "python3"
  },
  "language_info": {
   "codemirror_mode": {
    "name": "ipython",
    "version": 3
   },
   "file_extension": ".py",
   "mimetype": "text/x-python",
   "name": "python",
   "nbconvert_exporter": "python",
   "pygments_lexer": "ipython3",
   "version": "3.5.2"
  }
 },
 "nbformat": 4,
 "nbformat_minor": 2
}
