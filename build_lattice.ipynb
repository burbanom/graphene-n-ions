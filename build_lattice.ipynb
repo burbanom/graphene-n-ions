{
 "cells": [
  {
   "cell_type": "code",
   "execution_count": 1,
   "metadata": {},
   "outputs": [],
   "source": [
    "import numpy as np\n",
    "from ase import Atoms\n",
    "from copy import deepcopy\n",
    "from itertools import combinations\n",
    "import pandas as pd\n",
    "from ase.io import read, write\n",
    "from configurations import build_lattice, create_configurations\n",
    "import sys\n",
    "sys.path.insert(0,'../pycp2k')\n",
    "sys.path.insert(0,'../python-utils')\n",
    "from graphene_n_ions import too_close"
   ]
  },
  {
   "cell_type": "code",
   "execution_count": 2,
   "metadata": {
    "collapsed": true
   },
   "outputs": [],
   "source": [
    "from ase.visualize import view"
   ]
  },
  {
   "cell_type": "code",
   "execution_count": 3,
   "metadata": {
    "collapsed": true
   },
   "outputs": [],
   "source": [
    "from ase.build import molecule"
   ]
  },
  {
   "cell_type": "code",
   "execution_count": 4,
   "metadata": {},
   "outputs": [
    {
     "data": {
      "text/plain": [
       "array([[ 0.      ,  0.      , -0.611046],\n",
       "       [ 0.      ,  0.      ,  0.523753]])"
      ]
     },
     "execution_count": 4,
     "metadata": {},
     "output_type": "execute_result"
    }
   ],
   "source": [
    "cn = molecule('CN')\n",
    "cn.positions"
   ]
  },
  {
   "cell_type": "code",
   "execution_count": 5,
   "metadata": {
    "collapsed": true
   },
   "outputs": [],
   "source": [
    "cn.positions\n",
    "cn.set_cell([10,10,10])\n",
    "cn.pbc = True\n",
    "cn.center()\n",
    "cn.rotate(v='x',a=np.pi/2., center='COM')"
   ]
  },
  {
   "cell_type": "code",
   "execution_count": 6,
   "metadata": {
    "collapsed": true
   },
   "outputs": [],
   "source": [
    "view(cn)"
   ]
  },
  {
   "cell_type": "code",
   "execution_count": 7,
   "metadata": {
    "collapsed": true
   },
   "outputs": [],
   "source": [
    "lattice = build_lattice(4, motif=cn,lattice_constant=3)"
   ]
  },
  {
   "cell_type": "code",
   "execution_count": 8,
   "metadata": {},
   "outputs": [
    {
     "data": {
      "text/plain": [
       "[Atoms(symbols='CN', pbc=True, cell=[10.0, 10.0, 10.0], magmoms=...),\n",
       " Atoms(symbols='CN', pbc=True, cell=[10.0, 10.0, 10.0], magmoms=...),\n",
       " Atoms(symbols='CN', pbc=True, cell=[10.0, 10.0, 10.0], magmoms=...),\n",
       " Atoms(symbols='CN', pbc=True, cell=[10.0, 10.0, 10.0], magmoms=...)]"
      ]
     },
     "execution_count": 8,
     "metadata": {},
     "output_type": "execute_result"
    }
   ],
   "source": [
    "lattice"
   ]
  },
  {
   "cell_type": "code",
   "execution_count": 9,
   "metadata": {
    "collapsed": true
   },
   "outputs": [],
   "source": [
    "conf = Atoms()"
   ]
  },
  {
   "cell_type": "code",
   "execution_count": 10,
   "metadata": {
    "collapsed": true
   },
   "outputs": [],
   "source": [
    "for point in lattice:\n",
    "    conf.extend(point)"
   ]
  },
  {
   "cell_type": "code",
   "execution_count": 11,
   "metadata": {
    "collapsed": true
   },
   "outputs": [],
   "source": [
    "view(conf)"
   ]
  },
  {
   "cell_type": "code",
   "execution_count": 12,
   "metadata": {
    "collapsed": true
   },
   "outputs": [],
   "source": [
    "confs = create_configurations(lattice,axis = 'z', angle = 180.0)"
   ]
  },
  {
   "cell_type": "code",
   "execution_count": 13,
   "metadata": {},
   "outputs": [
    {
     "data": {
      "text/plain": [
       "{'AAAA': Atoms(symbols='CNCNCNCN', pbc=False, magmoms=...),\n",
       " 'AAAC': Atoms(symbols='CNCNCNCN', pbc=False, magmoms=...),\n",
       " 'AACA': Atoms(symbols='CNCNCNCN', pbc=False, magmoms=...),\n",
       " 'AACC': Atoms(symbols='CNCNCNCN', pbc=False, magmoms=...),\n",
       " 'ACAA': Atoms(symbols='CNCNCNCN', pbc=False, magmoms=...),\n",
       " 'ACAC': Atoms(symbols='CNCNCNCN', pbc=False, magmoms=...),\n",
       " 'ACCA': Atoms(symbols='CNCNCNCN', pbc=False, magmoms=...),\n",
       " 'ACCC': Atoms(symbols='CNCNCNCN', pbc=False, magmoms=...),\n",
       " 'CAAA': Atoms(symbols='CNCNCNCN', pbc=False, magmoms=...),\n",
       " 'CAAC': Atoms(symbols='CNCNCNCN', pbc=False, magmoms=...),\n",
       " 'CACA': Atoms(symbols='CNCNCNCN', pbc=False, magmoms=...),\n",
       " 'CACC': Atoms(symbols='CNCNCNCN', pbc=False, magmoms=...),\n",
       " 'CCAA': Atoms(symbols='CNCNCNCN', pbc=False, magmoms=...),\n",
       " 'CCAC': Atoms(symbols='CNCNCNCN', pbc=False, magmoms=...),\n",
       " 'CCCA': Atoms(symbols='CNCNCNCN', pbc=False, magmoms=...),\n",
       " 'CCCC': Atoms(symbols='CNCNCNCN', pbc=False, magmoms=...)}"
      ]
     },
     "execution_count": 13,
     "metadata": {},
     "output_type": "execute_result"
    }
   ],
   "source": [
    "confs"
   ]
  },
  {
   "cell_type": "code",
   "execution_count": 14,
   "metadata": {
    "collapsed": true
   },
   "outputs": [],
   "source": [
    "view(confs.values())"
   ]
  },
  {
   "cell_type": "code",
   "execution_count": 41,
   "metadata": {},
   "outputs": [],
   "source": [
    "bmim_pf6_opt = read('./opt_coords_bigbox.xyz')\n",
    "bmim_pf6_opt.cell = [44.20800018, 42.54000092, 50.]\n",
    "bmim_pf6_opt.center()"
   ]
  },
  {
   "cell_type": "code",
   "execution_count": 42,
   "metadata": {
    "collapsed": true
   },
   "outputs": [],
   "source": [
    "view(bmim_pf6_opt)"
   ]
  },
  {
   "cell_type": "code",
   "execution_count": 43,
   "metadata": {
    "collapsed": true
   },
   "outputs": [],
   "source": [
    "pf6 = bmim_pf6_opt[0:7]; bmim = bmim_pf6_opt[7:32]; electrode = bmim_pf6_opt[32:]"
   ]
  },
  {
   "cell_type": "code",
   "execution_count": 44,
   "metadata": {},
   "outputs": [
    {
     "data": {
      "text/plain": [
       "4.4099961471344038"
      ]
     },
     "execution_count": 44,
     "metadata": {},
     "output_type": "execute_result"
    }
   ],
   "source": [
    "pair = pf6+bmim\n",
    "eq_dist_ion_pair_electrode = abs(electrode.get_center_of_mass()-pair.get_center_of_mass())[2]\n",
    "eq_dist_ion_pair_electrode"
   ]
  },
  {
   "cell_type": "code",
   "execution_count": 45,
   "metadata": {},
   "outputs": [
    {
     "data": {
      "text/plain": [
       "5.0451744679708543"
      ]
     },
     "execution_count": 45,
     "metadata": {},
     "output_type": "execute_result"
    }
   ],
   "source": [
    "eq_dist_ion_pair = np.linalg.norm(bmim.get_center_of_mass() - pf6.get_center_of_mass())\n",
    "eq_dist_ion_pair"
   ]
  },
  {
   "cell_type": "code",
   "execution_count": 19,
   "metadata": {},
   "outputs": [],
   "source": [
    "view(pair)"
   ]
  },
  {
   "cell_type": "code",
   "execution_count": 46,
   "metadata": {
    "collapsed": true
   },
   "outputs": [],
   "source": [
    "pair.rotate('y',a=np.pi/2,center='COM')\n",
    "pair.rotate('x',a=np.pi/9.,center='COM')"
   ]
  },
  {
   "cell_type": "code",
   "execution_count": 21,
   "metadata": {
    "collapsed": true
   },
   "outputs": [],
   "source": [
    "view(pair)"
   ]
  },
  {
   "cell_type": "code",
   "execution_count": 47,
   "metadata": {
    "collapsed": true
   },
   "outputs": [],
   "source": [
    "electrode.center()\n",
    "pair.center()\n",
    "pair.translate([0.0,0.0,-eq_dist_ion_pair_electrode])"
   ]
  },
  {
   "cell_type": "code",
   "execution_count": 23,
   "metadata": {
    "collapsed": true
   },
   "outputs": [],
   "source": [
    "view(pair)"
   ]
  },
  {
   "cell_type": "code",
   "execution_count": 48,
   "metadata": {
    "collapsed": true
   },
   "outputs": [],
   "source": [
    "vector = 'z'\n",
    "rotation_angle = 180.0\n",
    "separation = eq_dist_ion_pair\n",
    "pairs = 2\n",
    "lshift = -5.7\n",
    "rshift = 5.7\n",
    "add_electrode = True"
   ]
  },
  {
   "cell_type": "code",
   "execution_count": 49,
   "metadata": {},
   "outputs": [],
   "source": [
    "lattice = build_lattice(pairs, motif=pair,lattice_constant=separation)\n",
    "l_confs = create_configurations(lattice,vector,rotation_angle)\n",
    "######\n",
    "for key in l_confs.keys():\n",
    "    l_confs[key].set_cell(bmim_pf6_opt.cell)\n",
    "    l_confs[key].center(axis=(0,1))\n",
    "    if lshift != 0.0:\n",
    "        l_confs[key].center(axis=2)\n",
    "        l_confs[key].translate([0.0,0.0,lshift])\n",
    "        if add_electrode and too_close(l_confs[key]+electrode,1.0):\n",
    "            (l_confs[key]+electrode).write('lhs_'+key+'_positions.vasp')\n",
    "            print('LHS ions are too close to the electrode')\n",
    "            sys.exit()\n",
    "\n",
    "lattice = build_lattice(pairs, motif=pair,lattice_constant=separation)\n",
    "r_confs = create_configurations(lattice,vector,rotation_angle)\n",
    "for key in r_confs.keys():\n",
    "    r_confs[key].set_cell(bmim_pf6_opt.cell)\n",
    "    r_confs[key].rotate('y',a=np.pi,center='COM')\n",
    "    r_confs[key].center(axis=(0,1,2))\n",
    "    r_confs[key].translate([0.0,0.0,eq_dist_ion_pair_electrode])\n",
    "    if rshift != 0.0:\n",
    "        r_confs[key].center(axis=2)\n",
    "        r_confs[key].translate([0.0,0.0,rshift])\n",
    "        if add_electrode and too_close(r_confs[key]+electrode,1.0):\n",
    "            (r_confs[key]+electrode).write('rhs_'+key+'_positions.vasp')\n",
    "            print('RHS ions are too close to the electrode')\n",
    "            sys.exit()"
   ]
  },
  {
   "cell_type": "code",
   "execution_count": 50,
   "metadata": {
    "collapsed": true
   },
   "outputs": [],
   "source": [
    "full_confs = []\n",
    "for  l_key in l_confs.keys():\n",
    "    for  r_key in r_confs.keys():\n",
    "        box = l_confs[l_key] + r_confs[r_key]\n",
    "        if add_electrode:\n",
    "            box.extend(electrode)\n",
    "        box.write('L-'+l_key+'-R-'+r_key+'-positions.cif')\n",
    "        full_confs.append(box)"
   ]
  },
  {
   "cell_type": "code",
   "execution_count": 51,
   "metadata": {
    "collapsed": true
   },
   "outputs": [],
   "source": [
    "view(full_confs)"
   ]
  }
 ],
 "metadata": {
  "kernelspec": {
   "display_name": "Python 3",
   "language": "python",
   "name": "python3"
  },
  "language_info": {
   "codemirror_mode": {
    "name": "ipython",
    "version": 3
   },
   "file_extension": ".py",
   "mimetype": "text/x-python",
   "name": "python",
   "nbconvert_exporter": "python",
   "pygments_lexer": "ipython3",
   "version": "3.5.2"
  }
 },
 "nbformat": 4,
 "nbformat_minor": 2
}
