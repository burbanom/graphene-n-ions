{
 "cells": [
  {
   "cell_type": "code",
   "execution_count": 34,
   "metadata": {
    "collapsed": true
   },
   "outputs": [],
   "source": [
    "import numpy as np\n",
    "from ase import Atoms\n",
    "from copy import deepcopy\n",
    "from itertools import combinations\n",
    "import pandas as pd\n",
    "from ase.io import read, write\n",
    "from configurations import build_lattice, create_configurations"
   ]
  },
  {
   "cell_type": "code",
   "execution_count": 35,
   "metadata": {
    "collapsed": true
   },
   "outputs": [],
   "source": [
    "from ase.visualize import view"
   ]
  },
  {
   "cell_type": "code",
   "execution_count": 36,
   "metadata": {
    "collapsed": true
   },
   "outputs": [],
   "source": [
    "from ase.build import molecule"
   ]
  },
  {
   "cell_type": "code",
   "execution_count": 37,
   "metadata": {},
   "outputs": [
    {
     "data": {
      "text/plain": [
       "array([[ 0.      ,  0.      , -0.611046],\n",
       "       [ 0.      ,  0.      ,  0.523753]])"
      ]
     },
     "execution_count": 37,
     "metadata": {},
     "output_type": "execute_result"
    }
   ],
   "source": [
    "cn = molecule('CN')\n",
    "cn.positions"
   ]
  },
  {
   "cell_type": "code",
   "execution_count": 38,
   "metadata": {
    "collapsed": true
   },
   "outputs": [],
   "source": [
    "cn.positions\n",
    "cn.set_cell([10,10,10])\n",
    "cn.pbc = True\n",
    "cn.center()\n",
    "cn.rotate(v='x',a=np.pi/2., center='COM')"
   ]
  },
  {
   "cell_type": "code",
   "execution_count": 39,
   "metadata": {
    "collapsed": true
   },
   "outputs": [],
   "source": [
    "view(cn)"
   ]
  },
  {
   "cell_type": "code",
   "execution_count": 40,
   "metadata": {
    "collapsed": true
   },
   "outputs": [],
   "source": [
    "lattice = build_lattice(4, motif=cn,lattice_constant=3)"
   ]
  },
  {
   "cell_type": "code",
   "execution_count": 41,
   "metadata": {},
   "outputs": [
    {
     "data": {
      "text/plain": [
       "[Atoms(symbols='CN', pbc=True, cell=[10.0, 10.0, 10.0], magmoms=...),\n",
       " Atoms(symbols='CN', pbc=True, cell=[10.0, 10.0, 10.0], magmoms=...),\n",
       " Atoms(symbols='CN', pbc=True, cell=[10.0, 10.0, 10.0], magmoms=...),\n",
       " Atoms(symbols='CN', pbc=True, cell=[10.0, 10.0, 10.0], magmoms=...)]"
      ]
     },
     "execution_count": 41,
     "metadata": {},
     "output_type": "execute_result"
    }
   ],
   "source": [
    "lattice"
   ]
  },
  {
   "cell_type": "code",
   "execution_count": 42,
   "metadata": {
    "collapsed": true
   },
   "outputs": [],
   "source": [
    "conf = Atoms()"
   ]
  },
  {
   "cell_type": "code",
   "execution_count": 43,
   "metadata": {
    "collapsed": true
   },
   "outputs": [],
   "source": [
    "for point in lattice:\n",
    "    conf.extend(point)"
   ]
  },
  {
   "cell_type": "code",
   "execution_count": 44,
   "metadata": {
    "collapsed": true
   },
   "outputs": [],
   "source": [
    "view(conf)"
   ]
  },
  {
   "cell_type": "code",
   "execution_count": 47,
   "metadata": {},
   "outputs": [],
   "source": [
    "confs = create_configurations(lattice,axis = 'z', angle = 180.0)"
   ]
  },
  {
   "cell_type": "code",
   "execution_count": 48,
   "metadata": {},
   "outputs": [
    {
     "data": {
      "text/plain": [
       "{'AAAA': Atoms(symbols='CNCNCNCN', pbc=False, magmoms=...),\n",
       " 'AAAC': Atoms(symbols='CNCNCNCN', pbc=False, magmoms=...),\n",
       " 'AACA': Atoms(symbols='CNCNCNCN', pbc=False, magmoms=...),\n",
       " 'AACC': Atoms(symbols='CNCNCNCN', pbc=False, magmoms=...),\n",
       " 'ACAA': Atoms(symbols='CNCNCNCN', pbc=False, magmoms=...),\n",
       " 'ACAC': Atoms(symbols='CNCNCNCN', pbc=False, magmoms=...),\n",
       " 'ACCA': Atoms(symbols='CNCNCNCN', pbc=False, magmoms=...),\n",
       " 'ACCC': Atoms(symbols='CNCNCNCN', pbc=False, magmoms=...),\n",
       " 'CAAA': Atoms(symbols='CNCNCNCN', pbc=False, magmoms=...),\n",
       " 'CAAC': Atoms(symbols='CNCNCNCN', pbc=False, magmoms=...),\n",
       " 'CACA': Atoms(symbols='CNCNCNCN', pbc=False, magmoms=...),\n",
       " 'CACC': Atoms(symbols='CNCNCNCN', pbc=False, magmoms=...),\n",
       " 'CCAA': Atoms(symbols='CNCNCNCN', pbc=False, magmoms=...),\n",
       " 'CCAC': Atoms(symbols='CNCNCNCN', pbc=False, magmoms=...),\n",
       " 'CCCA': Atoms(symbols='CNCNCNCN', pbc=False, magmoms=...),\n",
       " 'CCCC': Atoms(symbols='CNCNCNCN', pbc=False, magmoms=...)}"
      ]
     },
     "execution_count": 48,
     "metadata": {},
     "output_type": "execute_result"
    }
   ],
   "source": [
    "confs"
   ]
  },
  {
   "cell_type": "code",
   "execution_count": 50,
   "metadata": {
    "collapsed": true
   },
   "outputs": [],
   "source": [
    "view(confs.values())"
   ]
  },
  {
   "cell_type": "code",
   "execution_count": 76,
   "metadata": {
    "collapsed": true
   },
   "outputs": [],
   "source": [
    "bmim_pf6_opt = read('./opt_coords_bigbox.xyz')\n",
    "bmim_pf6_opt.cell = [44.20800018, 42.54000092, 50.]\n",
    "bmim_pf6_opt.center()"
   ]
  },
  {
   "cell_type": "code",
   "execution_count": 77,
   "metadata": {
    "collapsed": true
   },
   "outputs": [],
   "source": [
    "view(bmim_pf6_opt)"
   ]
  },
  {
   "cell_type": "code",
   "execution_count": 78,
   "metadata": {
    "collapsed": true
   },
   "outputs": [],
   "source": [
    "pf6 = bmim_pf6_opt[0:7]; bmim = bmim_pf6_opt[7:32]; electrode = bmim_pf6_opt[32:]"
   ]
  },
  {
   "cell_type": "code",
   "execution_count": 79,
   "metadata": {},
   "outputs": [
    {
     "data": {
      "text/plain": [
       "4.4099961471344038"
      ]
     },
     "execution_count": 79,
     "metadata": {},
     "output_type": "execute_result"
    }
   ],
   "source": [
    "pair = pf6+bmim\n",
    "eq_dist_ion_pair_electrode = abs(electrode.get_center_of_mass()-pair.get_center_of_mass())[2]\n",
    "eq_dist_ion_pair_electrode"
   ]
  },
  {
   "cell_type": "code",
   "execution_count": 80,
   "metadata": {
    "collapsed": true
   },
   "outputs": [],
   "source": [
    "view(pair)"
   ]
  },
  {
   "cell_type": "code",
   "execution_count": 81,
   "metadata": {
    "collapsed": true
   },
   "outputs": [],
   "source": [
    "electrode.center()\n",
    "pair.center()\n",
    "pair.translate([0.0,0.0,-eq_dist_ion_pair_electrode])"
   ]
  },
  {
   "cell_type": "code",
   "execution_count": 62,
   "metadata": {
    "collapsed": true
   },
   "outputs": [],
   "source": [
    "view(pair)"
   ]
  },
  {
   "cell_type": "code",
   "execution_count": 63,
   "metadata": {
    "collapsed": true
   },
   "outputs": [],
   "source": [
    "lattice = build_lattice(4, motif=pair,lattice_constant=11.0)"
   ]
  },
  {
   "cell_type": "code",
   "execution_count": 65,
   "metadata": {},
   "outputs": [],
   "source": [
    "confs = create_configurations(lattice,axis = 'z', angle=180.0)"
   ]
  },
  {
   "cell_type": "code",
   "execution_count": 66,
   "metadata": {},
   "outputs": [
    {
     "data": {
      "text/plain": [
       "{'AAAA': Atoms(symbols='C32H60F24N8P4', pbc=False),\n",
       " 'AAAC': Atoms(symbols='C32H60F24N8P4', pbc=False),\n",
       " 'AACA': Atoms(symbols='C32H60F24N8P4', pbc=False),\n",
       " 'AACC': Atoms(symbols='C32H60F24N8P4', pbc=False),\n",
       " 'ACAA': Atoms(symbols='C32H60F24N8P4', pbc=False),\n",
       " 'ACAC': Atoms(symbols='C32H60F24N8P4', pbc=False),\n",
       " 'ACCA': Atoms(symbols='C32H60F24N8P4', pbc=False),\n",
       " 'ACCC': Atoms(symbols='C32H60F24N8P4', pbc=False),\n",
       " 'CAAA': Atoms(symbols='C32H60F24N8P4', pbc=False),\n",
       " 'CAAC': Atoms(symbols='C32H60F24N8P4', pbc=False),\n",
       " 'CACA': Atoms(symbols='C32H60F24N8P4', pbc=False),\n",
       " 'CACC': Atoms(symbols='C32H60F24N8P4', pbc=False),\n",
       " 'CCAA': Atoms(symbols='C32H60F24N8P4', pbc=False),\n",
       " 'CCAC': Atoms(symbols='C32H60F24N8P4', pbc=False),\n",
       " 'CCCA': Atoms(symbols='C32H60F24N8P4', pbc=False),\n",
       " 'CCCC': Atoms(symbols='C32H60F24N8P4', pbc=False)}"
      ]
     },
     "execution_count": 66,
     "metadata": {},
     "output_type": "execute_result"
    }
   ],
   "source": [
    "confs"
   ]
  },
  {
   "cell_type": "code",
   "execution_count": 68,
   "metadata": {
    "collapsed": true
   },
   "outputs": [],
   "source": [
    "view(confs.values())"
   ]
  },
  {
   "cell_type": "code",
   "execution_count": 83,
   "metadata": {
    "collapsed": true
   },
   "outputs": [],
   "source": [
    "vector = 'z'\n",
    "rotation_angle = 180.0\n",
    "separation = 11.\n",
    "pairs = 2\n",
    "lshift = 0.0\n",
    "rshift = 0.0"
   ]
  },
  {
   "cell_type": "code",
   "execution_count": 84,
   "metadata": {},
   "outputs": [],
   "source": [
    "lattice = build_lattice(pairs, motif=pair,lattice_constant=separation)\n",
    "l_confs = create_configurations(lattice,vector,rotation_angle)\n",
    "######\n",
    "for key in l_confs.keys():\n",
    "    l_confs[key].set_cell(bmim_pf6_opt.cell)\n",
    "    l_confs[key].center(axis=(0,1))\n",
    "    if lshift != 0.0:\n",
    "        l_confs[key].center(axis=2)\n",
    "        l_confs[key].translate([0.0,0.0,lshift])\n",
    "        if add_electrode and too_close(l_confs[key]+electrode,1.0):\n",
    "            (l_confs[key]+electrode).write('lhs_'+key+'_positions.vasp')\n",
    "            print('LHS ions are too close to the electrode')\n",
    "            sys.exit()\n",
    "\n",
    "lattice = build_lattice(pairs, motif=pair,lattice_constant=separation)\n",
    "r_confs = create_configurations(lattice,vector,rotation_angle)\n",
    "for key in r_confs.keys():\n",
    "    r_confs[key].set_cell(bmim_pf6_opt.cell)\n",
    "    r_confs[key].center(axis=(0,1))\n",
    "    r_confs[key].translate([0.0,0.0,2*eq_dist_ion_pair_electrode])\n",
    "    if rshift != 0.0:\n",
    "        r_confs[key].center(axis=2)\n",
    "        r_confs[key].translate([0.0,0.0,rshift])\n",
    "        if add_electrode and too_close(r_confs[key]+electrode,1.0):\n",
    "            (r_confs[key]+electrode).write('rhs_'+key+'_positions.vasp')\n",
    "            print('RHS ions are too close to the electrode')\n",
    "            sys.exit()"
   ]
  },
  {
   "cell_type": "code",
   "execution_count": 87,
   "metadata": {},
   "outputs": [],
   "source": [
    "view(l_confs.values())"
   ]
  },
  {
   "cell_type": "code",
   "execution_count": 88,
   "metadata": {
    "collapsed": true
   },
   "outputs": [],
   "source": [
    "view(r_confs.values())"
   ]
  },
  {
   "cell_type": "code",
   "execution_count": 89,
   "metadata": {
    "collapsed": true
   },
   "outputs": [],
   "source": [
    "add_electrode = True"
   ]
  },
  {
   "cell_type": "code",
   "execution_count": 90,
   "metadata": {
    "collapsed": true
   },
   "outputs": [],
   "source": [
    "full_confs = []\n",
    "for  l_key in l_confs.keys():\n",
    "    for  r_key in r_confs.keys():\n",
    "        box = l_confs[l_key] + r_confs[r_key]\n",
    "        if add_electrode:\n",
    "            box.extend(electrode)\n",
    "        full_confs.append(box)"
   ]
  },
  {
   "cell_type": "code",
   "execution_count": 91,
   "metadata": {
    "collapsed": true
   },
   "outputs": [],
   "source": [
    "view(full_confs)"
   ]
  },
  {
   "cell_type": "code",
   "execution_count": 92,
   "metadata": {},
   "outputs": [
    {
     "data": {
      "text/plain": [
       "sys.version_info(major=3, minor=5, micro=2, releaselevel='final', serial=0)"
      ]
     },
     "execution_count": 92,
     "metadata": {},
     "output_type": "execute_result"
    }
   ],
   "source": [
    "import sys\n",
    "sys.version\n",
    "sys.version_info"
   ]
  },
  {
   "cell_type": "code",
   "execution_count": null,
   "metadata": {
    "collapsed": true
   },
   "outputs": [],
   "source": []
  }
 ],
 "metadata": {
  "kernelspec": {
   "display_name": "Python 3",
   "language": "python",
   "name": "python3"
  },
  "language_info": {
   "codemirror_mode": {
    "name": "ipython",
    "version": 3
   },
   "file_extension": ".py",
   "mimetype": "text/x-python",
   "name": "python",
   "nbconvert_exporter": "python",
   "pygments_lexer": "ipython3",
   "version": "3.5.2"
  }
 },
 "nbformat": 4,
 "nbformat_minor": 2
}
